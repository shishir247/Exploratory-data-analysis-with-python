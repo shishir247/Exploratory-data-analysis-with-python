{
 "cells": [
  {
   "cell_type": "markdown",
   "metadata": {},
   "source": [
    "# Finding outliers\n",
    "- outlier detection:\n",
    "    The training data contains outliers which are defined as observations that are far from the others. Outlier detection estimators thus try to fit the regions where the training data is the most concentrated, ignoring the deviant observations.\n",
    "    \n",
    "- novelty detection:\n",
    "    The training data is not polluted by outliers and we are interested in detecting whether a new observation is an outlier. In this context an outlier is also called a novelty.\n",
    "    \n",
    "Outlier detection and novelty detection are both used for __anomaly detection__, where one is interested in detecting abnormal or unusual observations."
   ]
  },
  {
   "cell_type": "code",
   "execution_count": 1,
   "metadata": {},
   "outputs": [],
   "source": [
    "import pandas as pd\n",
    "import numpy as np\n",
    "import warnings\n",
    "warnings.filterwarnings(action = \"ignore\")\n",
    "df = pd.read_csv(r\"C:\\Users\\Vaibhav\\Desktop\\BA\\Datasets\\boston.csv\")"
   ]
  },
  {
   "cell_type": "code",
   "execution_count": 2,
   "metadata": {},
   "outputs": [
    {
     "data": {
      "text/html": [
       "<div>\n",
       "<style scoped>\n",
       "    .dataframe tbody tr th:only-of-type {\n",
       "        vertical-align: middle;\n",
       "    }\n",
       "\n",
       "    .dataframe tbody tr th {\n",
       "        vertical-align: top;\n",
       "    }\n",
       "\n",
       "    .dataframe thead th {\n",
       "        text-align: right;\n",
       "    }\n",
       "</style>\n",
       "<table border=\"1\" class=\"dataframe\">\n",
       "  <thead>\n",
       "    <tr style=\"text-align: right;\">\n",
       "      <th></th>\n",
       "      <th>CRIM</th>\n",
       "      <th>ZN</th>\n",
       "      <th>INDUS</th>\n",
       "      <th>CHAS</th>\n",
       "      <th>NX</th>\n",
       "      <th>RM</th>\n",
       "      <th>AGE</th>\n",
       "      <th>DIS</th>\n",
       "      <th>RAD</th>\n",
       "      <th>TAX</th>\n",
       "      <th>PTRATIO</th>\n",
       "      <th>B</th>\n",
       "      <th>LSTAT</th>\n",
       "      <th>MEDV</th>\n",
       "    </tr>\n",
       "  </thead>\n",
       "  <tbody>\n",
       "    <tr>\n",
       "      <th>0</th>\n",
       "      <td>0.00632</td>\n",
       "      <td>18.0</td>\n",
       "      <td>2.31</td>\n",
       "      <td>0</td>\n",
       "      <td>0.538</td>\n",
       "      <td>6.575</td>\n",
       "      <td>65.2</td>\n",
       "      <td>4.0900</td>\n",
       "      <td>1</td>\n",
       "      <td>296.0</td>\n",
       "      <td>15.3</td>\n",
       "      <td>396.90</td>\n",
       "      <td>4.98</td>\n",
       "      <td>24.0</td>\n",
       "    </tr>\n",
       "    <tr>\n",
       "      <th>1</th>\n",
       "      <td>0.02731</td>\n",
       "      <td>0.0</td>\n",
       "      <td>7.07</td>\n",
       "      <td>0</td>\n",
       "      <td>0.469</td>\n",
       "      <td>6.421</td>\n",
       "      <td>78.9</td>\n",
       "      <td>4.9671</td>\n",
       "      <td>2</td>\n",
       "      <td>242.0</td>\n",
       "      <td>17.8</td>\n",
       "      <td>396.90</td>\n",
       "      <td>9.14</td>\n",
       "      <td>21.6</td>\n",
       "    </tr>\n",
       "    <tr>\n",
       "      <th>2</th>\n",
       "      <td>0.02729</td>\n",
       "      <td>0.0</td>\n",
       "      <td>7.07</td>\n",
       "      <td>0</td>\n",
       "      <td>0.469</td>\n",
       "      <td>7.185</td>\n",
       "      <td>61.1</td>\n",
       "      <td>4.9671</td>\n",
       "      <td>2</td>\n",
       "      <td>242.0</td>\n",
       "      <td>17.8</td>\n",
       "      <td>392.83</td>\n",
       "      <td>4.03</td>\n",
       "      <td>34.7</td>\n",
       "    </tr>\n",
       "  </tbody>\n",
       "</table>\n",
       "</div>"
      ],
      "text/plain": [
       "      CRIM    ZN  INDUS  CHAS     NX     RM   AGE     DIS  RAD    TAX  \\\n",
       "0  0.00632  18.0   2.31     0  0.538  6.575  65.2  4.0900    1  296.0   \n",
       "1  0.02731   0.0   7.07     0  0.469  6.421  78.9  4.9671    2  242.0   \n",
       "2  0.02729   0.0   7.07     0  0.469  7.185  61.1  4.9671    2  242.0   \n",
       "\n",
       "   PTRATIO       B  LSTAT  MEDV  \n",
       "0     15.3  396.90   4.98  24.0  \n",
       "1     17.8  396.90   9.14  21.6  \n",
       "2     17.8  392.83   4.03  34.7  "
      ]
     },
     "execution_count": 2,
     "metadata": {},
     "output_type": "execute_result"
    }
   ],
   "source": [
    "df.head(3)"
   ]
  },
  {
   "cell_type": "code",
   "execution_count": 3,
   "metadata": {},
   "outputs": [],
   "source": [
    "import matplotlib.pyplot as plt\n",
    "%matplotlib inline"
   ]
  },
  {
   "cell_type": "code",
   "execution_count": 4,
   "metadata": {},
   "outputs": [
    {
     "data": {
      "text/plain": [
       "<matplotlib.axes._subplots.AxesSubplot at 0x1deaf8fb860>"
      ]
     },
     "execution_count": 4,
     "metadata": {},
     "output_type": "execute_result"
    },
    {
     "data": {
      "image/png": "[encoded data removed]",
      "text/plain": [
       "<Figure size 432x288 with 1 Axes>"
      ]
     },
     "metadata": {
      "needs_background": "light"
     },
     "output_type": "display_data"
    }
   ],
   "source": [
    "df.MEDV.hist()"
   ]
  },
  {
   "cell_type": "code",
   "execution_count": 6,
   "metadata": {},
   "outputs": [],
   "source": [
    "def standarddev(s, threshold):\n",
    "    mu = s.mean()\n",
    "    st = s.std()\n",
    "    lower_cutoff = mu - threshold*st\n",
    "    upper_cutoff = mu + threshold*st\n",
    "    outlier_indices = np.where(np.logical_or(s<lower_cutoff, s>upper_cutoff))\n",
    "    val_b4_imputation = s[np.logical_or(s<lower_cutoff, s>upper_cutoff)]\n",
    "    s[s<lower_cutoff] = lower_cutoff\n",
    "    s[s>upper_cutoff] = upper_cutoff\n",
    "    return lower_cutoff, upper_cutoff, outlier_indices, val_b4_imputation,s"
   ]
  },
  {
   "cell_type": "code",
   "execution_count": 7,
   "metadata": {},
   "outputs": [],
   "source": [
    "l,u,out_indices, val_b4_imputation, s = standarddev(df.MEDV, 2.8)"
   ]
  },
  {
   "cell_type": "code",
   "execution_count": 8,
   "metadata": {},
   "outputs": [
    {
     "name": "stdout",
     "output_type": "stream",
     "text": [
      "-2.8183407035017183 47.77252749246111 161    48.284698\n",
      "162    48.284698\n",
      "163    48.284698\n",
      "166    48.284698\n",
      "186    48.284698\n",
      "195    48.284698\n",
      "203    48.284698\n",
      "204    48.284698\n",
      "225    48.284698\n",
      "233    48.284698\n",
      "257    48.284698\n",
      "262    48.284698\n",
      "267    48.284698\n",
      "283    48.284698\n",
      "368    48.284698\n",
      "369    48.284698\n",
      "370    48.284698\n",
      "371    48.284698\n",
      "372    48.284698\n",
      "Name: MEDV, dtype: float64\n"
     ]
    }
   ],
   "source": [
    "print(l, u, val_b4_imputation)"
   ]
  },
  {
   "cell_type": "code",
   "execution_count": 9,
   "metadata": {},
   "outputs": [
    {
     "name": "stdout",
     "output_type": "stream",
     "text": [
      "Values after imputation: \n"
     ]
    },
    {
     "data": {
      "text/plain": [
       "161    47.772527\n",
       "162    47.772527\n",
       "163    47.772527\n",
       "166    47.772527\n",
       "186    47.772527\n",
       "195    47.772527\n",
       "203    47.772527\n",
       "204    47.772527\n",
       "225    47.772527\n",
       "233    47.772527\n",
       "257    47.772527\n",
       "262    47.772527\n",
       "267    47.772527\n",
       "283    47.772527\n",
       "368    47.772527\n",
       "369    47.772527\n",
       "370    47.772527\n",
       "371    47.772527\n",
       "372    47.772527\n",
       "Name: MEDV, dtype: float64"
      ]
     },
     "execution_count": 9,
     "metadata": {},
     "output_type": "execute_result"
    }
   ],
   "source": [
    "print(\"Values after imputation: \")\n",
    "s.iloc[out_indices]"
   ]
  },
  {
   "cell_type": "code",
   "execution_count": 10,
   "metadata": {},
   "outputs": [],
   "source": [
    "df.MEDV=s"
   ]
  },
  {
   "cell_type": "markdown",
   "metadata": {},
   "source": [
    "----"
   ]
  },
  {
   "cell_type": "markdown",
   "metadata": {},
   "source": [
    "### IQR Method"
   ]
  },
  {
   "cell_type": "code",
   "execution_count": 11,
   "metadata": {},
   "outputs": [
    {
     "data": {
      "text/plain": [
       "{'whiskers': [<matplotlib.lines.Line2D at 0x1deafa42b70>,\n",
       "  <matplotlib.lines.Line2D at 0x1deafa42eb8>],\n",
       " 'caps': [<matplotlib.lines.Line2D at 0x1deafa4d240>,\n",
       "  <matplotlib.lines.Line2D at 0x1deafa4d588>],\n",
       " 'boxes': [<matplotlib.lines.Line2D at 0x1deafa42a20>],\n",
       " 'medians': [<matplotlib.lines.Line2D at 0x1deafa4d8d0>],\n",
       " 'fliers': [<matplotlib.lines.Line2D at 0x1deafa4dc18>],\n",
       " 'means': []}"
      ]
     },
     "execution_count": 11,
     "metadata": {},
     "output_type": "execute_result"
    },
    {
     "data": {
      "image/png": "[encoded data removed]",
      "text/plain": [
       "<Figure size 432x288 with 1 Axes>"
      ]
     },
     "metadata": {
      "needs_background": "light"
     },
     "output_type": "display_data"
    }
   ],
   "source": [
    "s = df.CRIM\n",
    "plt.boxplot(s)"
   ]
  },
  {
   "cell_type": "code",
   "execution_count": 13,
   "metadata": {},
   "outputs": [],
   "source": [
    "def out_iqr(s):\n",
    "    q1 = np.percentile(a = s, q = 25)\n",
    "    q3 = np.percentile(a = s, q = 75)\n",
    "    iqr = q3-q1\n",
    "    low_cutoff = q1-1.5*iqr\n",
    "    upper_cutoff = q3+1.5*iqr\n",
    "    out_indices = np.where(np.logical_or(s<low_cutoff, s>upper_cutoff))\n",
    "    s[s<low_cutoff]=low_cutoff\n",
    "    s[s>upper_cutoff] = upper_cutoff\n",
    "    return low_cutoff, upper_cutoff, out_indices,s\n",
    "    "
   ]
  },
  {
   "cell_type": "code",
   "execution_count": 14,
   "metadata": {},
   "outputs": [],
   "source": [
    "l,u, indices, s = out_iqr(df.CRIM)"
   ]
  },
  {
   "cell_type": "code",
   "execution_count": 15,
   "metadata": {},
   "outputs": [
    {
     "data": {
      "text/plain": [
       "(-5.31051125, 9.06963875)"
      ]
     },
     "execution_count": 15,
     "metadata": {},
     "output_type": "execute_result"
    }
   ],
   "source": [
    "l,u"
   ]
  },
  {
   "cell_type": "code",
   "execution_count": 16,
   "metadata": {},
   "outputs": [
    {
     "data": {
      "text/plain": [
       "(array([367, 371, 373, 374, 375, 376, 377, 378, 379, 380, 381, 382, 384,\n",
       "        385, 386, 387, 388, 392, 394, 398, 399, 400, 401, 402, 403, 404,\n",
       "        405, 406, 407, 409, 410, 411, 412, 413, 414, 415, 416, 417, 418,\n",
       "        419, 420, 422, 425, 426, 427, 429, 431, 434, 435, 436, 437, 438,\n",
       "        439, 440, 441, 443, 444, 445, 447, 448, 454, 468, 469, 477, 478,\n",
       "        479], dtype=int64),)"
      ]
     },
     "execution_count": 16,
     "metadata": {},
     "output_type": "execute_result"
    }
   ],
   "source": [
    "indices"
   ]
  },
  {
   "cell_type": "code",
   "execution_count": 17,
   "metadata": {},
   "outputs": [
    {
     "data": {
      "text/plain": [
       "367    9.069639\n",
       "371    9.069639\n",
       "373    9.069639\n",
       "374    9.069639\n",
       "375    9.069639\n",
       "376    9.069639\n",
       "377    9.069639\n",
       "378    9.069639\n",
       "379    9.069639\n",
       "380    9.069639\n",
       "381    9.069639\n",
       "382    9.069639\n",
       "384    9.069639\n",
       "385    9.069639\n",
       "386    9.069639\n",
       "387    9.069639\n",
       "388    9.069639\n",
       "392    9.069639\n",
       "394    9.069639\n",
       "398    9.069639\n",
       "399    9.069639\n",
       "400    9.069639\n",
       "401    9.069639\n",
       "402    9.069639\n",
       "403    9.069639\n",
       "404    9.069639\n",
       "405    9.069639\n",
       "406    9.069639\n",
       "407    9.069639\n",
       "409    9.069639\n",
       "         ...   \n",
       "416    9.069639\n",
       "417    9.069639\n",
       "418    9.069639\n",
       "419    9.069639\n",
       "420    9.069639\n",
       "422    9.069639\n",
       "425    9.069639\n",
       "426    9.069639\n",
       "427    9.069639\n",
       "429    9.069639\n",
       "431    9.069639\n",
       "434    9.069639\n",
       "435    9.069639\n",
       "436    9.069639\n",
       "437    9.069639\n",
       "438    9.069639\n",
       "439    9.069639\n",
       "440    9.069639\n",
       "441    9.069639\n",
       "443    9.069639\n",
       "444    9.069639\n",
       "445    9.069639\n",
       "447    9.069639\n",
       "448    9.069639\n",
       "454    9.069639\n",
       "468    9.069639\n",
       "469    9.069639\n",
       "477    9.069639\n",
       "478    9.069639\n",
       "479    9.069639\n",
       "Name: CRIM, Length: 66, dtype: float64"
      ]
     },
     "execution_count": 17,
     "metadata": {},
     "output_type": "execute_result"
    }
   ],
   "source": [
    "#After imputation\n",
    "df.CRIM[indices[0]]"
   ]
  }
 ],
 "metadata": {
  "kernelspec": {
   "display_name": "Python 3",
   "language": "python",
   "name": "python3"
  },
  "language_info": {
   "codemirror_mode": {
    "name": "ipython",
    "version": 3
   },
   "file_extension": ".py",
   "mimetype": "text/x-python",
   "name": "python",
   "nbconvert_exporter": "python",
   "pygments_lexer": "ipython3",
   "version": "3.7.6"
  }
 },
 "nbformat": 4,
 "nbformat_minor": 2
}
